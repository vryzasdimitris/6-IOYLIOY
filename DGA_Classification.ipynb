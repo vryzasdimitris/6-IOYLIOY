{
  "nbformat": 4,
  "nbformat_minor": 0,
  "metadata": {
    "colab": {
      "name": "Untitled7.ipynb",
      "provenance": [],
      "include_colab_link": true
    },
    "kernelspec": {
      "name": "python3",
      "display_name": "Python 3"
    },
    "widgets": {
      "application/vnd.jupyter.widget-state+json": {
        "75b484918bcd44c788b47c9b7430b770": {
          "model_module": "@jupyter-widgets/controls",
          "model_name": "VBoxModel",
          "model_module_version": "1.5.0",
          "state": {
            "_dom_classes": [
              "widget-interact"
            ],
            "_model_module": "@jupyter-widgets/controls",
            "_model_module_version": "1.5.0",
            "_model_name": "VBoxModel",
            "_view_count": null,
            "_view_module": "@jupyter-widgets/controls",
            "_view_module_version": "1.5.0",
            "_view_name": "VBoxView",
            "box_style": "",
            "children": [
              "IPY_MODEL_a17f44ba5c754abeb7adcb22604d0a6f",
              "IPY_MODEL_7423befca1ac4297a7433b38cd97b49b"
            ],
            "layout": "IPY_MODEL_a42eef464b7a4303b9e00d0d74d70002"
          }
        },
        "a17f44ba5c754abeb7adcb22604d0a6f": {
          "model_module": "@jupyter-widgets/controls",
          "model_name": "ToggleButtonsModel",
          "model_module_version": "1.5.0",
          "state": {
            "_dom_classes": [],
            "_model_module": "@jupyter-widgets/controls",
            "_model_module_version": "1.5.0",
            "_model_name": "ToggleButtonsModel",
            "_options_labels": [
              "Pipeline Plot",
              "Hyperparameters",
              "AUC",
              "Confusion Matrix",
              "Threshold",
              "Precision Recall",
              "Prediction Error",
              "Class Report",
              "Feature Selection",
              "Learning Curve",
              "Manifold Learning",
              "Calibration Curve",
              "Validation Curve",
              "Dimensions",
              "Feature Importance",
              "Feature Importance (All)",
              "Decision Boundary",
              "Lift Chart",
              "Gain Chart",
              "Decision Tree",
              "KS Statistic Plot"
            ],
            "_view_count": null,
            "_view_module": "@jupyter-widgets/controls",
            "_view_module_version": "1.5.0",
            "_view_name": "ToggleButtonsView",
            "button_style": "",
            "description": "Plot Type:",
            "description_tooltip": null,
            "disabled": false,
            "icons": [
              ""
            ],
            "index": 4,
            "layout": "IPY_MODEL_0c4d9cb36acd4b4a99351ab0e74e3d45",
            "style": "IPY_MODEL_476701689cea49f486bdb39e70298b52",
            "tooltips": []
          }
        },
        "7423befca1ac4297a7433b38cd97b49b": {
          "model_module": "@jupyter-widgets/output",
          "model_name": "OutputModel",
          "model_module_version": "1.0.0",
          "state": {
            "_dom_classes": [],
            "_model_module": "@jupyter-widgets/output",
            "_model_module_version": "1.0.0",
            "_model_name": "OutputModel",
            "_view_count": null,
            "_view_module": "@jupyter-widgets/output",
            "_view_module_version": "1.0.0",
            "_view_name": "OutputView",
            "layout": "IPY_MODEL_e8ce83212c8d4e0489e4e169631bbfcc",
            "msg_id": "8f76b19b-67e8-4cf5-a8fe-c98390bb449c",
            "outputs": [
              {
                "output_type": "display_data",
                "data": {
                  "text/plain": "<Figure size 800x550 with 1 Axes>",
                  "image/png": "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\n"
                },
                "metadata": {}
              }
            ]
          }
        },
        "a42eef464b7a4303b9e00d0d74d70002": {
          "model_module": "@jupyter-widgets/base",
          "model_name": "LayoutModel",
          "model_module_version": "1.2.0",
          "state": {
            "_model_module": "@jupyter-widgets/base",
            "_model_module_version": "1.2.0",
            "_model_name": "LayoutModel",
            "_view_count": null,
            "_view_module": "@jupyter-widgets/base",
            "_view_module_version": "1.2.0",
            "_view_name": "LayoutView",
            "align_content": null,
            "align_items": null,
            "align_self": null,
            "border": null,
            "bottom": null,
            "display": null,
            "flex": null,
            "flex_flow": null,
            "grid_area": null,
            "grid_auto_columns": null,
            "grid_auto_flow": null,
            "grid_auto_rows": null,
            "grid_column": null,
            "grid_gap": null,
            "grid_row": null,
            "grid_template_areas": null,
            "grid_template_columns": null,
            "grid_template_rows": null,
            "height": null,
            "justify_content": null,
            "justify_items": null,
            "left": null,
            "margin": null,
            "max_height": null,
            "max_width": null,
            "min_height": null,
            "min_width": null,
            "object_fit": null,
            "object_position": null,
            "order": null,
            "overflow": null,
            "overflow_x": null,
            "overflow_y": null,
            "padding": null,
            "right": null,
            "top": null,
            "visibility": null,
            "width": null
          }
        },
        "0c4d9cb36acd4b4a99351ab0e74e3d45": {
          "model_module": "@jupyter-widgets/base",
          "model_name": "LayoutModel",
          "model_module_version": "1.2.0",
          "state": {
            "_model_module": "@jupyter-widgets/base",
            "_model_module_version": "1.2.0",
            "_model_name": "LayoutModel",
            "_view_count": null,
            "_view_module": "@jupyter-widgets/base",
            "_view_module_version": "1.2.0",
            "_view_name": "LayoutView",
            "align_content": null,
            "align_items": null,
            "align_self": null,
            "border": null,
            "bottom": null,
            "display": null,
            "flex": null,
            "flex_flow": null,
            "grid_area": null,
            "grid_auto_columns": null,
            "grid_auto_flow": null,
            "grid_auto_rows": null,
            "grid_column": null,
            "grid_gap": null,
            "grid_row": null,
            "grid_template_areas": null,
            "grid_template_columns": null,
            "grid_template_rows": null,
            "height": null,
            "justify_content": null,
            "justify_items": null,
            "left": null,
            "margin": null,
            "max_height": null,
            "max_width": null,
            "min_height": null,
            "min_width": null,
            "object_fit": null,
            "object_position": null,
            "order": null,
            "overflow": null,
            "overflow_x": null,
            "overflow_y": null,
            "padding": null,
            "right": null,
            "top": null,
            "visibility": null,
            "width": null
          }
        },
        "476701689cea49f486bdb39e70298b52": {
          "model_module": "@jupyter-widgets/controls",
          "model_name": "ToggleButtonsStyleModel",
          "model_module_version": "1.5.0",
          "state": {
            "_model_module": "@jupyter-widgets/controls",
            "_model_module_version": "1.5.0",
            "_model_name": "ToggleButtonsStyleModel",
            "_view_count": null,
            "_view_module": "@jupyter-widgets/base",
            "_view_module_version": "1.2.0",
            "_view_name": "StyleView",
            "button_width": "",
            "description_width": "",
            "font_weight": ""
          }
        },
        "e8ce83212c8d4e0489e4e169631bbfcc": {
          "model_module": "@jupyter-widgets/base",
          "model_name": "LayoutModel",
          "model_module_version": "1.2.0",
          "state": {
            "_model_module": "@jupyter-widgets/base",
            "_model_module_version": "1.2.0",
            "_model_name": "LayoutModel",
            "_view_count": null,
            "_view_module": "@jupyter-widgets/base",
            "_view_module_version": "1.2.0",
            "_view_name": "LayoutView",
            "align_content": null,
            "align_items": null,
            "align_self": null,
            "border": null,
            "bottom": null,
            "display": null,
            "flex": null,
            "flex_flow": null,
            "grid_area": null,
            "grid_auto_columns": null,
            "grid_auto_flow": null,
            "grid_auto_rows": null,
            "grid_column": null,
            "grid_gap": null,
            "grid_row": null,
            "grid_template_areas": null,
            "grid_template_columns": null,
            "grid_template_rows": null,
            "height": null,
            "justify_content": null,
            "justify_items": null,
            "left": null,
            "margin": null,
            "max_height": null,
            "max_width": null,
            "min_height": null,
            "min_width": null,
            "object_fit": null,
            "object_position": null,
            "order": null,
            "overflow": null,
            "overflow_x": null,
            "overflow_y": null,
            "padding": null,
            "right": null,
            "top": null,
            "visibility": null,
            "width": null
          }
        }
      }
    }
  },
  "cells": [
    {
      "cell_type": "markdown",
      "metadata": {
        "id": "view-in-github",
        "colab_type": "text"
      },
      "source": [
        "<a href=\"https://colab.research.google.com/github/vryzasdimitris/6-IOYLIOY/blob/main/DGA_Classification.ipynb\" target=\"_parent\"><img src=\"https://colab.research.google.com/assets/colab-badge.svg\" alt=\"Open In Colab\"/></a>"
      ]
    },
    {
      "cell_type": "code",
      "metadata": {
        "id": "2rvGqQdY9C6s",
        "outputId": "795bfcdc-4761-405a-f8b0-26876f7984dd",
        "colab": {
          "base_uri": "https://localhost:8080/"
        }
      },
      "source": [
        "#εγκατάσταση πακέτου pycaret (https://pycaret.org/)\n",
        "!pip install pycaret\n",
        "#***ΠΡΟΣΟΧΗ*** μετά την εγκατάσταση χρειάζεται restart το session\n",
        "#***θα σας ζητηθεί επανεκκίνηση με σχετικό κόκκινο μήνυμα μετά την ολοκλήρωση της εγκατάστασης\n",
        "#***Πατήστε το κουμπί RESTART SESSION στο σχετικό μήνυμα"
      ],
      "execution_count": 11,
      "outputs": [
        {
          "output_type": "stream",
          "name": "stdout",
          "text": [
            "Requirement already satisfied: pycaret in /usr/local/lib/python3.10/dist-packages (3.3.2)\n",
            "Requirement already satisfied: ipython>=5.5.0 in /usr/local/lib/python3.10/dist-packages (from pycaret) (7.34.0)\n",
            "Requirement already satisfied: ipywidgets>=7.6.5 in /usr/local/lib/python3.10/dist-packages (from pycaret) (7.7.1)\n",
            "Requirement already satisfied: tqdm>=4.62.0 in /usr/local/lib/python3.10/dist-packages (from pycaret) (4.66.4)\n",
            "Requirement already satisfied: numpy<1.27,>=1.21 in /usr/local/lib/python3.10/dist-packages (from pycaret) (1.25.2)\n",
            "Requirement already satisfied: pandas<2.2.0 in /usr/local/lib/python3.10/dist-packages (from pycaret) (2.0.3)\n",
            "Requirement already satisfied: jinja2>=3 in /usr/local/lib/python3.10/dist-packages (from pycaret) (3.1.4)\n",
            "Requirement already satisfied: scipy<=1.11.4,>=1.6.1 in /usr/local/lib/python3.10/dist-packages (from pycaret) (1.11.4)\n",
            "Requirement already satisfied: joblib<1.4,>=1.2.0 in /usr/local/lib/python3.10/dist-packages (from pycaret) (1.3.2)\n",
            "Requirement already satisfied: scikit-learn>1.4.0 in /usr/local/lib/python3.10/dist-packages (from pycaret) (1.4.2)\n",
            "Requirement already satisfied: pyod>=1.1.3 in /usr/local/lib/python3.10/dist-packages (from pycaret) (2.0.1)\n",
            "Requirement already satisfied: imbalanced-learn>=0.12.0 in /usr/local/lib/python3.10/dist-packages (from pycaret) (0.12.3)\n",
            "Requirement already satisfied: category-encoders>=2.4.0 in /usr/local/lib/python3.10/dist-packages (from pycaret) (2.6.3)\n",
            "Requirement already satisfied: lightgbm>=3.0.0 in /usr/local/lib/python3.10/dist-packages (from pycaret) (4.1.0)\n",
            "Requirement already satisfied: numba>=0.55.0 in /usr/local/lib/python3.10/dist-packages (from pycaret) (0.58.1)\n",
            "Requirement already satisfied: requests>=2.27.1 in /usr/local/lib/python3.10/dist-packages (from pycaret) (2.31.0)\n",
            "Requirement already satisfied: psutil>=5.9.0 in /usr/local/lib/python3.10/dist-packages (from pycaret) (5.9.5)\n",
            "Requirement already satisfied: markupsafe>=2.0.1 in /usr/local/lib/python3.10/dist-packages (from pycaret) (2.1.5)\n",
            "Requirement already satisfied: importlib-metadata>=4.12.0 in /usr/local/lib/python3.10/dist-packages (from pycaret) (8.0.0)\n",
            "Requirement already satisfied: nbformat>=4.2.0 in /usr/local/lib/python3.10/dist-packages (from pycaret) (5.10.4)\n",
            "Requirement already satisfied: cloudpickle in /usr/local/lib/python3.10/dist-packages (from pycaret) (2.2.1)\n",
            "Requirement already satisfied: deprecation>=2.1.0 in /usr/local/lib/python3.10/dist-packages (from pycaret) (2.1.0)\n",
            "Requirement already satisfied: xxhash in /usr/local/lib/python3.10/dist-packages (from pycaret) (3.4.1)\n",
            "Requirement already satisfied: matplotlib<3.8.0 in /usr/local/lib/python3.10/dist-packages (from pycaret) (3.7.1)\n",
            "Requirement already satisfied: scikit-plot>=0.3.7 in /usr/local/lib/python3.10/dist-packages (from pycaret) (0.3.7)\n",
            "Requirement already satisfied: yellowbrick>=1.4 in /usr/local/lib/python3.10/dist-packages (from pycaret) (1.5)\n",
            "Requirement already satisfied: plotly>=5.14.0 in /usr/local/lib/python3.10/dist-packages (from pycaret) (5.15.0)\n",
            "Requirement already satisfied: kaleido>=0.2.1 in /usr/local/lib/python3.10/dist-packages (from pycaret) (0.2.1)\n",
            "Requirement already satisfied: schemdraw==0.15 in /usr/local/lib/python3.10/dist-packages (from pycaret) (0.15)\n",
            "Requirement already satisfied: plotly-resampler>=0.8.3.1 in /usr/local/lib/python3.10/dist-packages (from pycaret) (0.10.0)\n",
            "Requirement already satisfied: statsmodels>=0.12.1 in /usr/local/lib/python3.10/dist-packages (from pycaret) (0.14.2)\n",
            "Requirement already satisfied: sktime==0.26.0 in /usr/local/lib/python3.10/dist-packages (from pycaret) (0.26.0)\n",
            "Requirement already satisfied: tbats>=1.1.3 in /usr/local/lib/python3.10/dist-packages (from pycaret) (1.1.3)\n",
            "Requirement already satisfied: pmdarima>=2.0.4 in /usr/local/lib/python3.10/dist-packages (from pycaret) (2.0.4)\n",
            "Requirement already satisfied: wurlitzer in /usr/local/lib/python3.10/dist-packages (from pycaret) (3.1.1)\n",
            "Requirement already satisfied: packaging in /usr/local/lib/python3.10/dist-packages (from sktime==0.26.0->pycaret) (24.1)\n",
            "Requirement already satisfied: scikit-base<0.8.0 in /usr/local/lib/python3.10/dist-packages (from sktime==0.26.0->pycaret) (0.7.8)\n",
            "Requirement already satisfied: patsy>=0.5.1 in /usr/local/lib/python3.10/dist-packages (from category-encoders>=2.4.0->pycaret) (0.5.6)\n",
            "Requirement already satisfied: threadpoolctl>=2.0.0 in /usr/local/lib/python3.10/dist-packages (from imbalanced-learn>=0.12.0->pycaret) (3.5.0)\n",
            "Requirement already satisfied: zipp>=0.5 in /usr/local/lib/python3.10/dist-packages (from importlib-metadata>=4.12.0->pycaret) (3.19.2)\n",
            "Requirement already satisfied: setuptools>=18.5 in /usr/local/lib/python3.10/dist-packages (from ipython>=5.5.0->pycaret) (67.7.2)\n",
            "Requirement already satisfied: jedi>=0.16 in /usr/local/lib/python3.10/dist-packages (from ipython>=5.5.0->pycaret) (0.19.1)\n",
            "Requirement already satisfied: decorator in /usr/local/lib/python3.10/dist-packages (from ipython>=5.5.0->pycaret) (4.4.2)\n",
            "Requirement already satisfied: pickleshare in /usr/local/lib/python3.10/dist-packages (from ipython>=5.5.0->pycaret) (0.7.5)\n",
            "Requirement already satisfied: traitlets>=4.2 in /usr/local/lib/python3.10/dist-packages (from ipython>=5.5.0->pycaret) (5.7.1)\n",
            "Requirement already satisfied: prompt-toolkit!=3.0.0,!=3.0.1,<3.1.0,>=2.0.0 in /usr/local/lib/python3.10/dist-packages (from ipython>=5.5.0->pycaret) (3.0.47)\n",
            "Requirement already satisfied: pygments in /usr/local/lib/python3.10/dist-packages (from ipython>=5.5.0->pycaret) (2.16.1)\n",
            "Requirement already satisfied: backcall in /usr/local/lib/python3.10/dist-packages (from ipython>=5.5.0->pycaret) (0.2.0)\n",
            "Requirement already satisfied: matplotlib-inline in /usr/local/lib/python3.10/dist-packages (from ipython>=5.5.0->pycaret) (0.1.7)\n",
            "Requirement already satisfied: pexpect>4.3 in /usr/local/lib/python3.10/dist-packages (from ipython>=5.5.0->pycaret) (4.9.0)\n",
            "Requirement already satisfied: ipykernel>=4.5.1 in /usr/local/lib/python3.10/dist-packages (from ipywidgets>=7.6.5->pycaret) (5.5.6)\n",
            "Requirement already satisfied: ipython-genutils~=0.2.0 in /usr/local/lib/python3.10/dist-packages (from ipywidgets>=7.6.5->pycaret) (0.2.0)\n",
            "Requirement already satisfied: widgetsnbextension~=3.6.0 in /usr/local/lib/python3.10/dist-packages (from ipywidgets>=7.6.5->pycaret) (3.6.6)\n",
            "Requirement already satisfied: jupyterlab-widgets>=1.0.0 in /usr/local/lib/python3.10/dist-packages (from ipywidgets>=7.6.5->pycaret) (3.0.11)\n",
            "Requirement already satisfied: contourpy>=1.0.1 in /usr/local/lib/python3.10/dist-packages (from matplotlib<3.8.0->pycaret) (1.2.1)\n",
            "Requirement already satisfied: cycler>=0.10 in /usr/local/lib/python3.10/dist-packages (from matplotlib<3.8.0->pycaret) (0.12.1)\n",
            "Requirement already satisfied: fonttools>=4.22.0 in /usr/local/lib/python3.10/dist-packages (from matplotlib<3.8.0->pycaret) (4.53.0)\n",
            "Requirement already satisfied: kiwisolver>=1.0.1 in /usr/local/lib/python3.10/dist-packages (from matplotlib<3.8.0->pycaret) (1.4.5)\n",
            "Requirement already satisfied: pillow>=6.2.0 in /usr/local/lib/python3.10/dist-packages (from matplotlib<3.8.0->pycaret) (9.4.0)\n",
            "Requirement already satisfied: pyparsing>=2.3.1 in /usr/local/lib/python3.10/dist-packages (from matplotlib<3.8.0->pycaret) (3.1.2)\n",
            "Requirement already satisfied: python-dateutil>=2.7 in /usr/local/lib/python3.10/dist-packages (from matplotlib<3.8.0->pycaret) (2.8.2)\n",
            "Requirement already satisfied: fastjsonschema>=2.15 in /usr/local/lib/python3.10/dist-packages (from nbformat>=4.2.0->pycaret) (2.20.0)\n",
            "Requirement already satisfied: jsonschema>=2.6 in /usr/local/lib/python3.10/dist-packages (from nbformat>=4.2.0->pycaret) (4.19.2)\n",
            "Requirement already satisfied: jupyter-core!=5.0.*,>=4.12 in /usr/local/lib/python3.10/dist-packages (from nbformat>=4.2.0->pycaret) (5.7.2)\n",
            "Requirement already satisfied: llvmlite<0.42,>=0.41.0dev0 in /usr/local/lib/python3.10/dist-packages (from numba>=0.55.0->pycaret) (0.41.1)\n",
            "Requirement already satisfied: pytz>=2020.1 in /usr/local/lib/python3.10/dist-packages (from pandas<2.2.0->pycaret) (2023.4)\n",
            "Requirement already satisfied: tzdata>=2022.1 in /usr/local/lib/python3.10/dist-packages (from pandas<2.2.0->pycaret) (2024.1)\n",
            "Requirement already satisfied: tenacity>=6.2.0 in /usr/local/lib/python3.10/dist-packages (from plotly>=5.14.0->pycaret) (8.4.2)\n",
            "Requirement already satisfied: dash>=2.9.0 in /usr/local/lib/python3.10/dist-packages (from plotly-resampler>=0.8.3.1->pycaret) (2.17.1)\n",
            "Requirement already satisfied: orjson<4.0.0,>=3.8.0 in /usr/local/lib/python3.10/dist-packages (from plotly-resampler>=0.8.3.1->pycaret) (3.10.6)\n",
            "Requirement already satisfied: tsdownsample>=0.1.3 in /usr/local/lib/python3.10/dist-packages (from plotly-resampler>=0.8.3.1->pycaret) (0.1.3)\n",
            "Requirement already satisfied: Cython!=0.29.18,!=0.29.31,>=0.29 in /usr/local/lib/python3.10/dist-packages (from pmdarima>=2.0.4->pycaret) (3.0.10)\n",
            "Requirement already satisfied: urllib3 in /usr/local/lib/python3.10/dist-packages (from pmdarima>=2.0.4->pycaret) (2.0.7)\n",
            "Requirement already satisfied: charset-normalizer<4,>=2 in /usr/local/lib/python3.10/dist-packages (from requests>=2.27.1->pycaret) (3.3.2)\n",
            "Requirement already satisfied: idna<4,>=2.5 in /usr/local/lib/python3.10/dist-packages (from requests>=2.27.1->pycaret) (3.7)\n",
            "Requirement already satisfied: certifi>=2017.4.17 in /usr/local/lib/python3.10/dist-packages (from requests>=2.27.1->pycaret) (2024.6.2)\n",
            "Requirement already satisfied: Flask<3.1,>=1.0.4 in /usr/local/lib/python3.10/dist-packages (from dash>=2.9.0->plotly-resampler>=0.8.3.1->pycaret) (2.2.5)\n",
            "Requirement already satisfied: Werkzeug<3.1 in /usr/local/lib/python3.10/dist-packages (from dash>=2.9.0->plotly-resampler>=0.8.3.1->pycaret) (3.0.3)\n",
            "Requirement already satisfied: dash-html-components==2.0.0 in /usr/local/lib/python3.10/dist-packages (from dash>=2.9.0->plotly-resampler>=0.8.3.1->pycaret) (2.0.0)\n",
            "Requirement already satisfied: dash-core-components==2.0.0 in /usr/local/lib/python3.10/dist-packages (from dash>=2.9.0->plotly-resampler>=0.8.3.1->pycaret) (2.0.0)\n",
            "Requirement already satisfied: dash-table==5.0.0 in /usr/local/lib/python3.10/dist-packages (from dash>=2.9.0->plotly-resampler>=0.8.3.1->pycaret) (5.0.0)\n",
            "Requirement already satisfied: typing-extensions>=4.1.1 in /usr/local/lib/python3.10/dist-packages (from dash>=2.9.0->plotly-resampler>=0.8.3.1->pycaret) (4.12.2)\n",
            "Requirement already satisfied: retrying in /usr/local/lib/python3.10/dist-packages (from dash>=2.9.0->plotly-resampler>=0.8.3.1->pycaret) (1.3.4)\n",
            "Requirement already satisfied: nest-asyncio in /usr/local/lib/python3.10/dist-packages (from dash>=2.9.0->plotly-resampler>=0.8.3.1->pycaret) (1.6.0)\n",
            "Requirement already satisfied: jupyter-client in /usr/local/lib/python3.10/dist-packages (from ipykernel>=4.5.1->ipywidgets>=7.6.5->pycaret) (6.1.12)\n",
            "Requirement already satisfied: tornado>=4.2 in /usr/local/lib/python3.10/dist-packages (from ipykernel>=4.5.1->ipywidgets>=7.6.5->pycaret) (6.3.3)\n",
            "Requirement already satisfied: parso<0.9.0,>=0.8.3 in /usr/local/lib/python3.10/dist-packages (from jedi>=0.16->ipython>=5.5.0->pycaret) (0.8.4)\n",
            "Requirement already satisfied: attrs>=22.2.0 in /usr/local/lib/python3.10/dist-packages (from jsonschema>=2.6->nbformat>=4.2.0->pycaret) (23.2.0)\n",
            "Requirement already satisfied: jsonschema-specifications>=2023.03.6 in /usr/local/lib/python3.10/dist-packages (from jsonschema>=2.6->nbformat>=4.2.0->pycaret) (2023.12.1)\n",
            "Requirement already satisfied: referencing>=0.28.4 in /usr/local/lib/python3.10/dist-packages (from jsonschema>=2.6->nbformat>=4.2.0->pycaret) (0.35.1)\n",
            "Requirement already satisfied: rpds-py>=0.7.1 in /usr/local/lib/python3.10/dist-packages (from jsonschema>=2.6->nbformat>=4.2.0->pycaret) (0.18.1)\n",
            "Requirement already satisfied: platformdirs>=2.5 in /usr/local/lib/python3.10/dist-packages (from jupyter-core!=5.0.*,>=4.12->nbformat>=4.2.0->pycaret) (4.2.2)\n",
            "Requirement already satisfied: six in /usr/local/lib/python3.10/dist-packages (from patsy>=0.5.1->category-encoders>=2.4.0->pycaret) (1.16.0)\n",
            "Requirement already satisfied: ptyprocess>=0.5 in /usr/local/lib/python3.10/dist-packages (from pexpect>4.3->ipython>=5.5.0->pycaret) (0.7.0)\n",
            "Requirement already satisfied: wcwidth in /usr/local/lib/python3.10/dist-packages (from prompt-toolkit!=3.0.0,!=3.0.1,<3.1.0,>=2.0.0->ipython>=5.5.0->pycaret) (0.2.13)\n",
            "Requirement already satisfied: notebook>=4.4.1 in /usr/local/lib/python3.10/dist-packages (from widgetsnbextension~=3.6.0->ipywidgets>=7.6.5->pycaret) (6.5.5)\n",
            "Requirement already satisfied: itsdangerous>=2.0 in /usr/local/lib/python3.10/dist-packages (from Flask<3.1,>=1.0.4->dash>=2.9.0->plotly-resampler>=0.8.3.1->pycaret) (2.2.0)\n",
            "Requirement already satisfied: click>=8.0 in /usr/local/lib/python3.10/dist-packages (from Flask<3.1,>=1.0.4->dash>=2.9.0->plotly-resampler>=0.8.3.1->pycaret) (8.1.7)\n",
            "Requirement already satisfied: pyzmq<25,>=17 in /usr/local/lib/python3.10/dist-packages (from notebook>=4.4.1->widgetsnbextension~=3.6.0->ipywidgets>=7.6.5->pycaret) (24.0.1)\n",
            "Requirement already satisfied: argon2-cffi in /usr/local/lib/python3.10/dist-packages (from notebook>=4.4.1->widgetsnbextension~=3.6.0->ipywidgets>=7.6.5->pycaret) (23.1.0)\n",
            "Requirement already satisfied: nbconvert>=5 in /usr/local/lib/python3.10/dist-packages (from notebook>=4.4.1->widgetsnbextension~=3.6.0->ipywidgets>=7.6.5->pycaret) (6.5.4)\n",
            "Requirement already satisfied: Send2Trash>=1.8.0 in /usr/local/lib/python3.10/dist-packages (from notebook>=4.4.1->widgetsnbextension~=3.6.0->ipywidgets>=7.6.5->pycaret) (1.8.3)\n",
            "Requirement already satisfied: terminado>=0.8.3 in /usr/local/lib/python3.10/dist-packages (from notebook>=4.4.1->widgetsnbextension~=3.6.0->ipywidgets>=7.6.5->pycaret) (0.18.1)\n",
            "Requirement already satisfied: prometheus-client in /usr/local/lib/python3.10/dist-packages (from notebook>=4.4.1->widgetsnbextension~=3.6.0->ipywidgets>=7.6.5->pycaret) (0.20.0)\n",
            "Requirement already satisfied: nbclassic>=0.4.7 in /usr/local/lib/python3.10/dist-packages (from notebook>=4.4.1->widgetsnbextension~=3.6.0->ipywidgets>=7.6.5->pycaret) (1.1.0)\n",
            "Requirement already satisfied: notebook-shim>=0.2.3 in /usr/local/lib/python3.10/dist-packages (from nbclassic>=0.4.7->notebook>=4.4.1->widgetsnbextension~=3.6.0->ipywidgets>=7.6.5->pycaret) (0.2.4)\n",
            "Requirement already satisfied: lxml in /usr/local/lib/python3.10/dist-packages (from nbconvert>=5->notebook>=4.4.1->widgetsnbextension~=3.6.0->ipywidgets>=7.6.5->pycaret) (4.9.4)\n",
            "Requirement already satisfied: beautifulsoup4 in /usr/local/lib/python3.10/dist-packages (from nbconvert>=5->notebook>=4.4.1->widgetsnbextension~=3.6.0->ipywidgets>=7.6.5->pycaret) (4.12.3)\n",
            "Requirement already satisfied: bleach in /usr/local/lib/python3.10/dist-packages (from nbconvert>=5->notebook>=4.4.1->widgetsnbextension~=3.6.0->ipywidgets>=7.6.5->pycaret) (6.1.0)\n",
            "Requirement already satisfied: defusedxml in /usr/local/lib/python3.10/dist-packages (from nbconvert>=5->notebook>=4.4.1->widgetsnbextension~=3.6.0->ipywidgets>=7.6.5->pycaret) (0.7.1)\n",
            "Requirement already satisfied: entrypoints>=0.2.2 in /usr/local/lib/python3.10/dist-packages (from nbconvert>=5->notebook>=4.4.1->widgetsnbextension~=3.6.0->ipywidgets>=7.6.5->pycaret) (0.4)\n",
            "Requirement already satisfied: jupyterlab-pygments in /usr/local/lib/python3.10/dist-packages (from nbconvert>=5->notebook>=4.4.1->widgetsnbextension~=3.6.0->ipywidgets>=7.6.5->pycaret) (0.3.0)\n",
            "Requirement already satisfied: mistune<2,>=0.8.1 in /usr/local/lib/python3.10/dist-packages (from nbconvert>=5->notebook>=4.4.1->widgetsnbextension~=3.6.0->ipywidgets>=7.6.5->pycaret) (0.8.4)\n",
            "Requirement already satisfied: nbclient>=0.5.0 in /usr/local/lib/python3.10/dist-packages (from nbconvert>=5->notebook>=4.4.1->widgetsnbextension~=3.6.0->ipywidgets>=7.6.5->pycaret) (0.10.0)\n",
            "Requirement already satisfied: pandocfilters>=1.4.1 in /usr/local/lib/python3.10/dist-packages (from nbconvert>=5->notebook>=4.4.1->widgetsnbextension~=3.6.0->ipywidgets>=7.6.5->pycaret) (1.5.1)\n",
            "Requirement already satisfied: tinycss2 in /usr/local/lib/python3.10/dist-packages (from nbconvert>=5->notebook>=4.4.1->widgetsnbextension~=3.6.0->ipywidgets>=7.6.5->pycaret) (1.3.0)\n",
            "Requirement already satisfied: argon2-cffi-bindings in /usr/local/lib/python3.10/dist-packages (from argon2-cffi->notebook>=4.4.1->widgetsnbextension~=3.6.0->ipywidgets>=7.6.5->pycaret) (21.2.0)\n",
            "Requirement already satisfied: jupyter-server<3,>=1.8 in /usr/local/lib/python3.10/dist-packages (from notebook-shim>=0.2.3->nbclassic>=0.4.7->notebook>=4.4.1->widgetsnbextension~=3.6.0->ipywidgets>=7.6.5->pycaret) (1.24.0)\n",
            "Requirement already satisfied: cffi>=1.0.1 in /usr/local/lib/python3.10/dist-packages (from argon2-cffi-bindings->argon2-cffi->notebook>=4.4.1->widgetsnbextension~=3.6.0->ipywidgets>=7.6.5->pycaret) (1.16.0)\n",
            "Requirement already satisfied: soupsieve>1.2 in /usr/local/lib/python3.10/dist-packages (from beautifulsoup4->nbconvert>=5->notebook>=4.4.1->widgetsnbextension~=3.6.0->ipywidgets>=7.6.5->pycaret) (2.5)\n",
            "Requirement already satisfied: webencodings in /usr/local/lib/python3.10/dist-packages (from bleach->nbconvert>=5->notebook>=4.4.1->widgetsnbextension~=3.6.0->ipywidgets>=7.6.5->pycaret) (0.5.1)\n",
            "Requirement already satisfied: pycparser in /usr/local/lib/python3.10/dist-packages (from cffi>=1.0.1->argon2-cffi-bindings->argon2-cffi->notebook>=4.4.1->widgetsnbextension~=3.6.0->ipywidgets>=7.6.5->pycaret) (2.22)\n",
            "Requirement already satisfied: anyio<4,>=3.1.0 in /usr/local/lib/python3.10/dist-packages (from jupyter-server<3,>=1.8->notebook-shim>=0.2.3->nbclassic>=0.4.7->notebook>=4.4.1->widgetsnbextension~=3.6.0->ipywidgets>=7.6.5->pycaret) (3.7.1)\n",
            "Requirement already satisfied: websocket-client in /usr/local/lib/python3.10/dist-packages (from jupyter-server<3,>=1.8->notebook-shim>=0.2.3->nbclassic>=0.4.7->notebook>=4.4.1->widgetsnbextension~=3.6.0->ipywidgets>=7.6.5->pycaret) (1.8.0)\n",
            "Requirement already satisfied: sniffio>=1.1 in /usr/local/lib/python3.10/dist-packages (from anyio<4,>=3.1.0->jupyter-server<3,>=1.8->notebook-shim>=0.2.3->nbclassic>=0.4.7->notebook>=4.4.1->widgetsnbextension~=3.6.0->ipywidgets>=7.6.5->pycaret) (1.3.1)\n",
            "Requirement already satisfied: exceptiongroup in /usr/local/lib/python3.10/dist-packages (from anyio<4,>=3.1.0->jupyter-server<3,>=1.8->notebook-shim>=0.2.3->nbclassic>=0.4.7->notebook>=4.4.1->widgetsnbextension~=3.6.0->ipywidgets>=7.6.5->pycaret) (1.2.1)\n"
          ]
        }
      ]
    },
    {
      "cell_type": "code",
      "metadata": {
        "id": "7LfnpwSS9nue"
      },
      "source": [
        "#εισαγωγή βιβλιοθηκών - πακέτων\n",
        "import pycaret\n",
        "import pandas as pd\n",
        "import numpy as np\n",
        "import matplotlib.pyplot as plt\n",
        "from pycaret.classification import *"
      ],
      "execution_count": 12,
      "outputs": []
    },
    {
      "cell_type": "code",
      "metadata": {
        "colab": {
          "base_uri": "https://localhost:8080/"
        },
        "id": "ZunbzPVa9a6g",
        "outputId": "07e5351d-32cb-40b2-ce83-aa2ea386f95c"
      },
      "source": [
        "#εισαγωγή του συνόλου δεδομένων\n",
        "url = 'https://raw.githubusercontent.com/kdemertzis/EKPA/main/Data/dga_2class.csv'\n",
        "df = pd.read_csv(url)\n",
        "#έλεγχος σχήματος συνόλου δεδομένων\n",
        "print(df.shape)"
      ],
      "execution_count": 25,
      "outputs": [
        {
          "output_type": "stream",
          "name": "stdout",
          "text": [
            "(25270, 6)\n"
          ]
        }
      ]
    },
    {
      "cell_type": "code",
      "source": [
        "#ανακάτεμα των δεδομένων\n",
        "df = df.sample(frac = 1)\n",
        "print(df.head())"
      ],
      "metadata": {
        "id": "DCynJDtpYx8z",
        "outputId": "1b34b242-eebd-4ad1-fb2b-ee0e0b7b4d7e",
        "colab": {
          "base_uri": "https://localhost:8080/"
        }
      },
      "execution_count": 26,
      "outputs": [
        {
          "output_type": "stream",
          "name": "stdout",
          "text": [
            "       length   entropy   alexa_grams   word_grams       diff  class\n",
            "17214      13  3.026987     42.004070    61.943505 -19.939435    dga\n",
            "6346        9  2.947703     31.897193    42.054143 -10.156949  legit\n",
            "14454       8  3.000000     19.637559    29.208901  -9.571342    dga\n",
            "13047       9  2.947703     30.978643    29.726854   1.251790  legit\n",
            "20788      14  3.378783     46.223106    75.987014 -29.763908    dga\n"
          ]
        }
      ]
    },
    {
      "cell_type": "code",
      "metadata": {
        "id": "J6y3Zhq2-EZ8"
      },
      "source": [
        "#εγκατάσταση του συνόλου δεδομένων\n",
        "grid = setup(data=df, target=df.columns[-1], html=False, verbose=False)"
      ],
      "execution_count": 27,
      "outputs": []
    },
    {
      "cell_type": "code",
      "metadata": {
        "colab": {
          "base_uri": "https://localhost:8080/"
        },
        "id": "ZGJ7kigzA1Rf",
        "outputId": "51a3d772-650e-41b2-ed1a-d104b51a73f8"
      },
      "source": [
        "#σύγκριση των διαθέσιμων μοντέλων ΜΜ\n",
        "best = compare_models(cross_validation=False, n_select = 1)\n",
        "%load_ext tensorboard"
      ],
      "execution_count": 28,
      "outputs": [
        {
          "output_type": "stream",
          "name": "stderr",
          "text": [
            "                                                           "
          ]
        },
        {
          "output_type": "stream",
          "name": "stdout",
          "text": [
            "                                    Model  Accuracy     AUC  Recall   Prec.  \\\n",
            "gbc          Gradient Boosting Classifier    0.7690  0.8341  0.7690  0.7738   \n",
            "lightgbm  Light Gradient Boosting Machine    0.7655  0.8357  0.7655  0.7693   \n",
            "xgboost         Extreme Gradient Boosting    0.7623  0.8307  0.7623  0.7653   \n",
            "ridge                    Ridge Classifier    0.7566  0.0000  0.7566  0.7609   \n",
            "lda          Linear Discriminant Analysis    0.7565  0.8171  0.7565  0.7607   \n",
            "lr                    Logistic Regression    0.7561  0.8181  0.7561  0.7580   \n",
            "ada                  Ada Boost Classifier    0.7536  0.8218  0.7536  0.7545   \n",
            "rf               Random Forest Classifier    0.7496  0.8156  0.7496  0.7500   \n",
            "et                 Extra Trees Classifier    0.7380  0.8045  0.7380  0.7378   \n",
            "svm                   SVM - Linear Kernel    0.7359  0.0000  0.7359  0.7560   \n",
            "knn                K Neighbors Classifier    0.7328  0.7867  0.7328  0.7327   \n",
            "qda       Quadratic Discriminant Analysis    0.6928  0.8070  0.6928  0.7589   \n",
            "dt               Decision Tree Classifier    0.6792  0.6786  0.6792  0.6795   \n",
            "nb                            Naive Bayes    0.6028  0.6703  0.6028  0.6103   \n",
            "dummy                    Dummy Classifier    0.5301  0.5000  0.5301  0.2810   \n",
            "\n",
            "              F1   Kappa     MCC  TT (Sec)  \n",
            "gbc       0.7664  0.5319  0.5389      3.67  \n",
            "lightgbm  0.7631  0.5250  0.5309      0.57  \n",
            "xgboost   0.7602  0.5189  0.5239      0.27  \n",
            "ridge     0.7539  0.5068  0.5134      0.03  \n",
            "lda       0.7538  0.5065  0.5131      0.03  \n",
            "lr        0.7544  0.5069  0.5105      0.18  \n",
            "ada       0.7523  0.5025  0.5049      1.16  \n",
            "rf        0.7486  0.4950  0.4966      3.37  \n",
            "et        0.7375  0.4727  0.4732      1.65  \n",
            "svm       0.7268  0.4599  0.4844      0.36  \n",
            "knn       0.7319  0.4613  0.4624      0.04  \n",
            "qda       0.6637  0.3631  0.4329      0.03  \n",
            "dt        0.6793  0.3565  0.3566      0.18  \n",
            "nb        0.5822  0.1838  0.2000      0.02  \n",
            "dummy     0.3674  0.0000  0.0000      0.03  \n",
            "The tensorboard extension is already loaded. To reload it, use:\n",
            "  %reload_ext tensorboard\n"
          ]
        },
        {
          "output_type": "stream",
          "name": "stderr",
          "text": [
            "\r"
          ]
        }
      ]
    },
    {
      "cell_type": "code",
      "metadata": {
        "colab": {
          "base_uri": "https://localhost:8080/"
        },
        "id": "TorFLtNx-kCm",
        "outputId": "f63990b6-6e34-4b4f-e889-651461bd6854"
      },
      "source": [
        "#αναφορά των υπερπαραμέτρων του μοντέλου με την υψηλότερη απόδοση\n",
        "print(best)"
      ],
      "execution_count": 29,
      "outputs": [
        {
          "output_type": "stream",
          "name": "stdout",
          "text": [
            "GradientBoostingClassifier(ccp_alpha=0.0, criterion='friedman_mse', init=None,\n",
            "                           learning_rate=0.1, loss='log_loss', max_depth=3,\n",
            "                           max_features=None, max_leaf_nodes=None,\n",
            "                           min_impurity_decrease=0.0, min_samples_leaf=1,\n",
            "                           min_samples_split=2, min_weight_fraction_leaf=0.0,\n",
            "                           n_estimators=100, n_iter_no_change=None,\n",
            "                           random_state=3912, subsample=1.0, tol=0.0001,\n",
            "                           validation_fraction=0.1, verbose=0,\n",
            "                           warm_start=False)\n"
          ]
        }
      ]
    },
    {
      "cell_type": "code",
      "metadata": {
        "id": "XJTnGY38yxrE",
        "outputId": "8f5517e7-b637-4132-f7ce-b92befeeddab",
        "colab": {
          "base_uri": "https://localhost:8080/",
          "height": 663,
          "referenced_widgets": [
            "75b484918bcd44c788b47c9b7430b770",
            "a17f44ba5c754abeb7adcb22604d0a6f",
            "7423befca1ac4297a7433b38cd97b49b",
            "a42eef464b7a4303b9e00d0d74d70002",
            "0c4d9cb36acd4b4a99351ab0e74e3d45",
            "476701689cea49f486bdb39e70298b52",
            "e8ce83212c8d4e0489e4e169631bbfcc"
          ]
        }
      },
      "source": [
        "#μέτρα αξιολόγησης του μοντέλου με την υψηλότερη απόδοση\n",
        "evaluate_model(best)"
      ],
      "execution_count": 30,
      "outputs": [
        {
          "output_type": "display_data",
          "data": {
            "text/plain": [
              "interactive(children=(ToggleButtons(description='Plot Type:', icons=('',), options=(('Pipeline Plot', 'pipelin…"
            ],
            "application/vnd.jupyter.widget-view+json": {
              "version_major": 2,
              "version_minor": 0,
              "model_id": "75b484918bcd44c788b47c9b7430b770"
            }
          },
          "metadata": {
            "application/vnd.jupyter.widget-view+json": {
              "colab": {
                "custom_widget_manager": {
                  "url": "https://ssl.gstatic.com/colaboratory-static/widgets/colab-cdn-widget-manager/2b70e893a8ba7c0f/manager.min.js"
                }
              }
            }
          }
        }
      ]
    }
  ]
}
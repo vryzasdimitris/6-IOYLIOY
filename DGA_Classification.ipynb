{
  "nbformat": 4,
  "nbformat_minor": 0,
  "metadata": {
    "colab": {
      "name": "Untitled7.ipynb",
      "provenance": [],
      "include_colab_link": true
    },
    "kernelspec": {
      "name": "python3",
      "display_name": "Python 3"
    },
    "widgets": {
      "application/vnd.jupyter.widget-state+json": {
        "7c8df7411d4f444f87baf31a9850b0b1": {
          "model_module": "@jupyter-widgets/controls",
          "model_name": "VBoxModel",
          "model_module_version": "1.5.0",
          "state": {
            "_dom_classes": [
              "widget-interact"
            ],
            "_model_module": "@jupyter-widgets/controls",
            "_model_module_version": "1.5.0",
            "_model_name": "VBoxModel",
            "_view_count": null,
            "_view_module": "@jupyter-widgets/controls",
            "_view_module_version": "1.5.0",
            "_view_name": "VBoxView",
            "box_style": "",
            "children": [
              "IPY_MODEL_0fa6486ff5914bdea9281e72255c50bf",
              "IPY_MODEL_da734cb6d4a14c83a051ba08890ff16e"
            ],
            "layout": "IPY_MODEL_4a0de3aeb21a41e6976bd819f5337196"
          }
        },
        "0fa6486ff5914bdea9281e72255c50bf": {
          "model_module": "@jupyter-widgets/controls",
          "model_name": "ToggleButtonsModel",
          "model_module_version": "1.5.0",
          "state": {
            "_dom_classes": [],
            "_model_module": "@jupyter-widgets/controls",
            "_model_module_version": "1.5.0",
            "_model_name": "ToggleButtonsModel",
            "_options_labels": [
              "Pipeline Plot",
              "Hyperparameters",
              "AUC",
              "Confusion Matrix",
              "Threshold",
              "Precision Recall",
              "Prediction Error",
              "Class Report",
              "Feature Selection",
              "Learning Curve",
              "Manifold Learning",
              "Calibration Curve",
              "Validation Curve",
              "Dimensions",
              "Feature Importance",
              "Feature Importance (All)",
              "Decision Boundary",
              "Lift Chart",
              "Gain Chart",
              "Decision Tree",
              "KS Statistic Plot"
            ],
            "_view_count": null,
            "_view_module": "@jupyter-widgets/controls",
            "_view_module_version": "1.5.0",
            "_view_name": "ToggleButtonsView",
            "button_style": "",
            "description": "Plot Type:",
            "description_tooltip": null,
            "disabled": false,
            "icons": [
              ""
            ],
            "index": 4,
            "layout": "IPY_MODEL_b4a138f86366498a8afe765f072f22d0",
            "style": "IPY_MODEL_5186064d9b714bdcb02c55f76b55577b",
            "tooltips": []
          }
        },
        "da734cb6d4a14c83a051ba08890ff16e": {
          "model_module": "@jupyter-widgets/output",
          "model_name": "OutputModel",
          "model_module_version": "1.0.0",
          "state": {
            "_dom_classes": [],
            "_model_module": "@jupyter-widgets/output",
            "_model_module_version": "1.0.0",
            "_model_name": "OutputModel",
            "_view_count": null,
            "_view_module": "@jupyter-widgets/output",
            "_view_module_version": "1.0.0",
            "_view_name": "OutputView",
            "layout": "IPY_MODEL_394b244854194fae952e0963add117ea",
            "msg_id": "c591d5aa-e335-42f3-f903-b8ae1947066c",
            "outputs": [
              {
                "output_type": "display_data",
                "data": {
                  "text/plain": "<Figure size 800x550 with 1 Axes>",
                  "image/png": "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\n"
                },
                "metadata": {}
              }
            ]
          }
        },
        "4a0de3aeb21a41e6976bd819f5337196": {
          "model_module": "@jupyter-widgets/base",
          "model_name": "LayoutModel",
          "model_module_version": "1.2.0",
          "state": {
            "_model_module": "@jupyter-widgets/base",
            "_model_module_version": "1.2.0",
            "_model_name": "LayoutModel",
            "_view_count": null,
            "_view_module": "@jupyter-widgets/base",
            "_view_module_version": "1.2.0",
            "_view_name": "LayoutView",
            "align_content": null,
            "align_items": null,
            "align_self": null,
            "border": null,
            "bottom": null,
            "display": null,
            "flex": null,
            "flex_flow": null,
            "grid_area": null,
            "grid_auto_columns": null,
            "grid_auto_flow": null,
            "grid_auto_rows": null,
            "grid_column": null,
            "grid_gap": null,
            "grid_row": null,
            "grid_template_areas": null,
            "grid_template_columns": null,
            "grid_template_rows": null,
            "height": null,
            "justify_content": null,
            "justify_items": null,
            "left": null,
            "margin": null,
            "max_height": null,
            "max_width": null,
            "min_height": null,
            "min_width": null,
            "object_fit": null,
            "object_position": null,
            "order": null,
            "overflow": null,
            "overflow_x": null,
            "overflow_y": null,
            "padding": null,
            "right": null,
            "top": null,
            "visibility": null,
            "width": null
          }
        },
        "b4a138f86366498a8afe765f072f22d0": {
          "model_module": "@jupyter-widgets/base",
          "model_name": "LayoutModel",
          "model_module_version": "1.2.0",
          "state": {
            "_model_module": "@jupyter-widgets/base",
            "_model_module_version": "1.2.0",
            "_model_name": "LayoutModel",
            "_view_count": null,
            "_view_module": "@jupyter-widgets/base",
            "_view_module_version": "1.2.0",
            "_view_name": "LayoutView",
            "align_content": null,
            "align_items": null,
            "align_self": null,
            "border": null,
            "bottom": null,
            "display": null,
            "flex": null,
            "flex_flow": null,
            "grid_area": null,
            "grid_auto_columns": null,
            "grid_auto_flow": null,
            "grid_auto_rows": null,
            "grid_column": null,
            "grid_gap": null,
            "grid_row": null,
            "grid_template_areas": null,
            "grid_template_columns": null,
            "grid_template_rows": null,
            "height": null,
            "justify_content": null,
            "justify_items": null,
            "left": null,
            "margin": null,
            "max_height": null,
            "max_width": null,
            "min_height": null,
            "min_width": null,
            "object_fit": null,
            "object_position": null,
            "order": null,
            "overflow": null,
            "overflow_x": null,
            "overflow_y": null,
            "padding": null,
            "right": null,
            "top": null,
            "visibility": null,
            "width": null
          }
        },
        "5186064d9b714bdcb02c55f76b55577b": {
          "model_module": "@jupyter-widgets/controls",
          "model_name": "ToggleButtonsStyleModel",
          "model_module_version": "1.5.0",
          "state": {
            "_model_module": "@jupyter-widgets/controls",
            "_model_module_version": "1.5.0",
            "_model_name": "ToggleButtonsStyleModel",
            "_view_count": null,
            "_view_module": "@jupyter-widgets/base",
            "_view_module_version": "1.2.0",
            "_view_name": "StyleView",
            "button_width": "",
            "description_width": "",
            "font_weight": ""
          }
        },
        "394b244854194fae952e0963add117ea": {
          "model_module": "@jupyter-widgets/base",
          "model_name": "LayoutModel",
          "model_module_version": "1.2.0",
          "state": {
            "_model_module": "@jupyter-widgets/base",
            "_model_module_version": "1.2.0",
            "_model_name": "LayoutModel",
            "_view_count": null,
            "_view_module": "@jupyter-widgets/base",
            "_view_module_version": "1.2.0",
            "_view_name": "LayoutView",
            "align_content": null,
            "align_items": null,
            "align_self": null,
            "border": null,
            "bottom": null,
            "display": null,
            "flex": null,
            "flex_flow": null,
            "grid_area": null,
            "grid_auto_columns": null,
            "grid_auto_flow": null,
            "grid_auto_rows": null,
            "grid_column": null,
            "grid_gap": null,
            "grid_row": null,
            "grid_template_areas": null,
            "grid_template_columns": null,
            "grid_template_rows": null,
            "height": null,
            "justify_content": null,
            "justify_items": null,
            "left": null,
            "margin": null,
            "max_height": null,
            "max_width": null,
            "min_height": null,
            "min_width": null,
            "object_fit": null,
            "object_position": null,
            "order": null,
            "overflow": null,
            "overflow_x": null,
            "overflow_y": null,
            "padding": null,
            "right": null,
            "top": null,
            "visibility": null,
            "width": null
          }
        }
      }
    }
  },
  "cells": [
    {
      "cell_type": "markdown",
      "metadata": {
        "id": "view-in-github",
        "colab_type": "text"
      },
      "source": [
        "<a href=\"https://colab.research.google.com/github/vryzasdimitris/6-IOYLIOY/blob/main/DGA_Classification.ipynb\" target=\"_parent\"><img src=\"https://colab.research.google.com/assets/colab-badge.svg\" alt=\"Open In Colab\"/></a>"
      ]
    },
    {
      "cell_type": "code",
      "metadata": {
        "id": "2rvGqQdY9C6s",
        "outputId": "795bfcdc-4761-405a-f8b0-26876f7984dd",
        "colab": {
          "base_uri": "https://localhost:8080/"
        }
      },
      "source": [
        "#εγκατάσταση πακέτου pycaret (https://pycaret.org/)\n",
        "!pip install pycaret\n",
        "#***ΠΡΟΣΟΧΗ*** μετά την εγκατάσταση χρειάζεται restart το session\n",
        "#***θα σας ζητηθεί επανεκκίνηση με σχετικό κόκκινο μήνυμα μετά την ολοκλήρωση της εγκατάστασης\n",
        "#***Πατήστε το κουμπί RESTART SESSION στο σχετικό μήνυμα"
      ],
      "execution_count": 11,
      "outputs": [
        {
          "output_type": "stream",
          "name": "stdout",
          "text": [
            "Requirement already satisfied: pycaret in /usr/local/lib/python3.10/dist-packages (3.3.2)\n",
            "Requirement already satisfied: ipython>=5.5.0 in /usr/local/lib/python3.10/dist-packages (from pycaret) (7.34.0)\n",
            "Requirement already satisfied: ipywidgets>=7.6.5 in /usr/local/lib/python3.10/dist-packages (from pycaret) (7.7.1)\n",
            "Requirement already satisfied: tqdm>=4.62.0 in /usr/local/lib/python3.10/dist-packages (from pycaret) (4.66.4)\n",
            "Requirement already satisfied: numpy<1.27,>=1.21 in /usr/local/lib/python3.10/dist-packages (from pycaret) (1.25.2)\n",
            "Requirement already satisfied: pandas<2.2.0 in /usr/local/lib/python3.10/dist-packages (from pycaret) (2.0.3)\n",
            "Requirement already satisfied: jinja2>=3 in /usr/local/lib/python3.10/dist-packages (from pycaret) (3.1.4)\n",
            "Requirement already satisfied: scipy<=1.11.4,>=1.6.1 in /usr/local/lib/python3.10/dist-packages (from pycaret) (1.11.4)\n",
            "Requirement already satisfied: joblib<1.4,>=1.2.0 in /usr/local/lib/python3.10/dist-packages (from pycaret) (1.3.2)\n",
            "Requirement already satisfied: scikit-learn>1.4.0 in /usr/local/lib/python3.10/dist-packages (from pycaret) (1.4.2)\n",
            "Requirement already satisfied: pyod>=1.1.3 in /usr/local/lib/python3.10/dist-packages (from pycaret) (2.0.1)\n",
            "Requirement already satisfied: imbalanced-learn>=0.12.0 in /usr/local/lib/python3.10/dist-packages (from pycaret) (0.12.3)\n",
            "Requirement already satisfied: category-encoders>=2.4.0 in /usr/local/lib/python3.10/dist-packages (from pycaret) (2.6.3)\n",
            "Requirement already satisfied: lightgbm>=3.0.0 in /usr/local/lib/python3.10/dist-packages (from pycaret) (4.1.0)\n",
            "Requirement already satisfied: numba>=0.55.0 in /usr/local/lib/python3.10/dist-packages (from pycaret) (0.58.1)\n",
            "Requirement already satisfied: requests>=2.27.1 in /usr/local/lib/python3.10/dist-packages (from pycaret) (2.31.0)\n",
            "Requirement already satisfied: psutil>=5.9.0 in /usr/local/lib/python3.10/dist-packages (from pycaret) (5.9.5)\n",
            "Requirement already satisfied: markupsafe>=2.0.1 in /usr/local/lib/python3.10/dist-packages (from pycaret) (2.1.5)\n",
            "Requirement already satisfied: importlib-metadata>=4.12.0 in /usr/local/lib/python3.10/dist-packages (from pycaret) (8.0.0)\n",
            "Requirement already satisfied: nbformat>=4.2.0 in /usr/local/lib/python3.10/dist-packages (from pycaret) (5.10.4)\n",
            "Requirement already satisfied: cloudpickle in /usr/local/lib/python3.10/dist-packages (from pycaret) (2.2.1)\n",
            "Requirement already satisfied: deprecation>=2.1.0 in /usr/local/lib/python3.10/dist-packages (from pycaret) (2.1.0)\n",
            "Requirement already satisfied: xxhash in /usr/local/lib/python3.10/dist-packages (from pycaret) (3.4.1)\n",
            "Requirement already satisfied: matplotlib<3.8.0 in /usr/local/lib/python3.10/dist-packages (from pycaret) (3.7.1)\n",
            "Requirement already satisfied: scikit-plot>=0.3.7 in /usr/local/lib/python3.10/dist-packages (from pycaret) (0.3.7)\n",
            "Requirement already satisfied: yellowbrick>=1.4 in /usr/local/lib/python3.10/dist-packages (from pycaret) (1.5)\n",
            "Requirement already satisfied: plotly>=5.14.0 in /usr/local/lib/python3.10/dist-packages (from pycaret) (5.15.0)\n",
            "Requirement already satisfied: kaleido>=0.2.1 in /usr/local/lib/python3.10/dist-packages (from pycaret) (0.2.1)\n",
            "Requirement already satisfied: schemdraw==0.15 in /usr/local/lib/python3.10/dist-packages (from pycaret) (0.15)\n",
            "Requirement already satisfied: plotly-resampler>=0.8.3.1 in /usr/local/lib/python3.10/dist-packages (from pycaret) (0.10.0)\n",
            "Requirement already satisfied: statsmodels>=0.12.1 in /usr/local/lib/python3.10/dist-packages (from pycaret) (0.14.2)\n",
            "Requirement already satisfied: sktime==0.26.0 in /usr/local/lib/python3.10/dist-packages (from pycaret) (0.26.0)\n",
            "Requirement already satisfied: tbats>=1.1.3 in /usr/local/lib/python3.10/dist-packages (from pycaret) (1.1.3)\n",
            "Requirement already satisfied: pmdarima>=2.0.4 in /usr/local/lib/python3.10/dist-packages (from pycaret) (2.0.4)\n",
            "Requirement already satisfied: wurlitzer in /usr/local/lib/python3.10/dist-packages (from pycaret) (3.1.1)\n",
            "Requirement already satisfied: packaging in /usr/local/lib/python3.10/dist-packages (from sktime==0.26.0->pycaret) (24.1)\n",
            "Requirement already satisfied: scikit-base<0.8.0 in /usr/local/lib/python3.10/dist-packages (from sktime==0.26.0->pycaret) (0.7.8)\n",
            "Requirement already satisfied: patsy>=0.5.1 in /usr/local/lib/python3.10/dist-packages (from category-encoders>=2.4.0->pycaret) (0.5.6)\n",
            "Requirement already satisfied: threadpoolctl>=2.0.0 in /usr/local/lib/python3.10/dist-packages (from imbalanced-learn>=0.12.0->pycaret) (3.5.0)\n",
            "Requirement already satisfied: zipp>=0.5 in /usr/local/lib/python3.10/dist-packages (from importlib-metadata>=4.12.0->pycaret) (3.19.2)\n",
            "Requirement already satisfied: setuptools>=18.5 in /usr/local/lib/python3.10/dist-packages (from ipython>=5.5.0->pycaret) (67.7.2)\n",
            "Requirement already satisfied: jedi>=0.16 in /usr/local/lib/python3.10/dist-packages (from ipython>=5.5.0->pycaret) (0.19.1)\n",
            "Requirement already satisfied: decorator in /usr/local/lib/python3.10/dist-packages (from ipython>=5.5.0->pycaret) (4.4.2)\n",
            "Requirement already satisfied: pickleshare in /usr/local/lib/python3.10/dist-packages (from ipython>=5.5.0->pycaret) (0.7.5)\n",
            "Requirement already satisfied: traitlets>=4.2 in /usr/local/lib/python3.10/dist-packages (from ipython>=5.5.0->pycaret) (5.7.1)\n",
            "Requirement already satisfied: prompt-toolkit!=3.0.0,!=3.0.1,<3.1.0,>=2.0.0 in /usr/local/lib/python3.10/dist-packages (from ipython>=5.5.0->pycaret) (3.0.47)\n",
            "Requirement already satisfied: pygments in /usr/local/lib/python3.10/dist-packages (from ipython>=5.5.0->pycaret) (2.16.1)\n",
            "Requirement already satisfied: backcall in /usr/local/lib/python3.10/dist-packages (from ipython>=5.5.0->pycaret) (0.2.0)\n",
            "Requirement already satisfied: matplotlib-inline in /usr/local/lib/python3.10/dist-packages (from ipython>=5.5.0->pycaret) (0.1.7)\n",
            "Requirement already satisfied: pexpect>4.3 in /usr/local/lib/python3.10/dist-packages (from ipython>=5.5.0->pycaret) (4.9.0)\n",
            "Requirement already satisfied: ipykernel>=4.5.1 in /usr/local/lib/python3.10/dist-packages (from ipywidgets>=7.6.5->pycaret) (5.5.6)\n",
            "Requirement already satisfied: ipython-genutils~=0.2.0 in /usr/local/lib/python3.10/dist-packages (from ipywidgets>=7.6.5->pycaret) (0.2.0)\n",
            "Requirement already satisfied: widgetsnbextension~=3.6.0 in /usr/local/lib/python3.10/dist-packages (from ipywidgets>=7.6.5->pycaret) (3.6.6)\n",
            "Requirement already satisfied: jupyterlab-widgets>=1.0.0 in /usr/local/lib/python3.10/dist-packages (from ipywidgets>=7.6.5->pycaret) (3.0.11)\n",
            "Requirement already satisfied: contourpy>=1.0.1 in /usr/local/lib/python3.10/dist-packages (from matplotlib<3.8.0->pycaret) (1.2.1)\n",
            "Requirement already satisfied: cycler>=0.10 in /usr/local/lib/python3.10/dist-packages (from matplotlib<3.8.0->pycaret) (0.12.1)\n",
            "Requirement already satisfied: fonttools>=4.22.0 in /usr/local/lib/python3.10/dist-packages (from matplotlib<3.8.0->pycaret) (4.53.0)\n",
            "Requirement already satisfied: kiwisolver>=1.0.1 in /usr/local/lib/python3.10/dist-packages (from matplotlib<3.8.0->pycaret) (1.4.5)\n",
            "Requirement already satisfied: pillow>=6.2.0 in /usr/local/lib/python3.10/dist-packages (from matplotlib<3.8.0->pycaret) (9.4.0)\n",
            "Requirement already satisfied: pyparsing>=2.3.1 in /usr/local/lib/python3.10/dist-packages (from matplotlib<3.8.0->pycaret) (3.1.2)\n",
            "Requirement already satisfied: python-dateutil>=2.7 in /usr/local/lib/python3.10/dist-packages (from matplotlib<3.8.0->pycaret) (2.8.2)\n",
            "Requirement already satisfied: fastjsonschema>=2.15 in /usr/local/lib/python3.10/dist-packages (from nbformat>=4.2.0->pycaret) (2.20.0)\n",
            "Requirement already satisfied: jsonschema>=2.6 in /usr/local/lib/python3.10/dist-packages (from nbformat>=4.2.0->pycaret) (4.19.2)\n",
            "Requirement already satisfied: jupyter-core!=5.0.*,>=4.12 in /usr/local/lib/python3.10/dist-packages (from nbformat>=4.2.0->pycaret) (5.7.2)\n",
            "Requirement already satisfied: llvmlite<0.42,>=0.41.0dev0 in /usr/local/lib/python3.10/dist-packages (from numba>=0.55.0->pycaret) (0.41.1)\n",
            "Requirement already satisfied: pytz>=2020.1 in /usr/local/lib/python3.10/dist-packages (from pandas<2.2.0->pycaret) (2023.4)\n",
            "Requirement already satisfied: tzdata>=2022.1 in /usr/local/lib/python3.10/dist-packages (from pandas<2.2.0->pycaret) (2024.1)\n",
            "Requirement already satisfied: tenacity>=6.2.0 in /usr/local/lib/python3.10/dist-packages (from plotly>=5.14.0->pycaret) (8.4.2)\n",
            "Requirement already satisfied: dash>=2.9.0 in /usr/local/lib/python3.10/dist-packages (from plotly-resampler>=0.8.3.1->pycaret) (2.17.1)\n",
            "Requirement already satisfied: orjson<4.0.0,>=3.8.0 in /usr/local/lib/python3.10/dist-packages (from plotly-resampler>=0.8.3.1->pycaret) (3.10.6)\n",
            "Requirement already satisfied: tsdownsample>=0.1.3 in /usr/local/lib/python3.10/dist-packages (from plotly-resampler>=0.8.3.1->pycaret) (0.1.3)\n",
            "Requirement already satisfied: Cython!=0.29.18,!=0.29.31,>=0.29 in /usr/local/lib/python3.10/dist-packages (from pmdarima>=2.0.4->pycaret) (3.0.10)\n",
            "Requirement already satisfied: urllib3 in /usr/local/lib/python3.10/dist-packages (from pmdarima>=2.0.4->pycaret) (2.0.7)\n",
            "Requirement already satisfied: charset-normalizer<4,>=2 in /usr/local/lib/python3.10/dist-packages (from requests>=2.27.1->pycaret) (3.3.2)\n",
            "Requirement already satisfied: idna<4,>=2.5 in /usr/local/lib/python3.10/dist-packages (from requests>=2.27.1->pycaret) (3.7)\n",
            "Requirement already satisfied: certifi>=2017.4.17 in /usr/local/lib/python3.10/dist-packages (from requests>=2.27.1->pycaret) (2024.6.2)\n",
            "Requirement already satisfied: Flask<3.1,>=1.0.4 in /usr/local/lib/python3.10/dist-packages (from dash>=2.9.0->plotly-resampler>=0.8.3.1->pycaret) (2.2.5)\n",
            "Requirement already satisfied: Werkzeug<3.1 in /usr/local/lib/python3.10/dist-packages (from dash>=2.9.0->plotly-resampler>=0.8.3.1->pycaret) (3.0.3)\n",
            "Requirement already satisfied: dash-html-components==2.0.0 in /usr/local/lib/python3.10/dist-packages (from dash>=2.9.0->plotly-resampler>=0.8.3.1->pycaret) (2.0.0)\n",
            "Requirement already satisfied: dash-core-components==2.0.0 in /usr/local/lib/python3.10/dist-packages (from dash>=2.9.0->plotly-resampler>=0.8.3.1->pycaret) (2.0.0)\n",
            "Requirement already satisfied: dash-table==5.0.0 in /usr/local/lib/python3.10/dist-packages (from dash>=2.9.0->plotly-resampler>=0.8.3.1->pycaret) (5.0.0)\n",
            "Requirement already satisfied: typing-extensions>=4.1.1 in /usr/local/lib/python3.10/dist-packages (from dash>=2.9.0->plotly-resampler>=0.8.3.1->pycaret) (4.12.2)\n",
            "Requirement already satisfied: retrying in /usr/local/lib/python3.10/dist-packages (from dash>=2.9.0->plotly-resampler>=0.8.3.1->pycaret) (1.3.4)\n",
            "Requirement already satisfied: nest-asyncio in /usr/local/lib/python3.10/dist-packages (from dash>=2.9.0->plotly-resampler>=0.8.3.1->pycaret) (1.6.0)\n",
            "Requirement already satisfied: jupyter-client in /usr/local/lib/python3.10/dist-packages (from ipykernel>=4.5.1->ipywidgets>=7.6.5->pycaret) (6.1.12)\n",
            "Requirement already satisfied: tornado>=4.2 in /usr/local/lib/python3.10/dist-packages (from ipykernel>=4.5.1->ipywidgets>=7.6.5->pycaret) (6.3.3)\n",
            "Requirement already satisfied: parso<0.9.0,>=0.8.3 in /usr/local/lib/python3.10/dist-packages (from jedi>=0.16->ipython>=5.5.0->pycaret) (0.8.4)\n",
            "Requirement already satisfied: attrs>=22.2.0 in /usr/local/lib/python3.10/dist-packages (from jsonschema>=2.6->nbformat>=4.2.0->pycaret) (23.2.0)\n",
            "Requirement already satisfied: jsonschema-specifications>=2023.03.6 in /usr/local/lib/python3.10/dist-packages (from jsonschema>=2.6->nbformat>=4.2.0->pycaret) (2023.12.1)\n",
            "Requirement already satisfied: referencing>=0.28.4 in /usr/local/lib/python3.10/dist-packages (from jsonschema>=2.6->nbformat>=4.2.0->pycaret) (0.35.1)\n",
            "Requirement already satisfied: rpds-py>=0.7.1 in /usr/local/lib/python3.10/dist-packages (from jsonschema>=2.6->nbformat>=4.2.0->pycaret) (0.18.1)\n",
            "Requirement already satisfied: platformdirs>=2.5 in /usr/local/lib/python3.10/dist-packages (from jupyter-core!=5.0.*,>=4.12->nbformat>=4.2.0->pycaret) (4.2.2)\n",
            "Requirement already satisfied: six in /usr/local/lib/python3.10/dist-packages (from patsy>=0.5.1->category-encoders>=2.4.0->pycaret) (1.16.0)\n",
            "Requirement already satisfied: ptyprocess>=0.5 in /usr/local/lib/python3.10/dist-packages (from pexpect>4.3->ipython>=5.5.0->pycaret) (0.7.0)\n",
            "Requirement already satisfied: wcwidth in /usr/local/lib/python3.10/dist-packages (from prompt-toolkit!=3.0.0,!=3.0.1,<3.1.0,>=2.0.0->ipython>=5.5.0->pycaret) (0.2.13)\n",
            "Requirement already satisfied: notebook>=4.4.1 in /usr/local/lib/python3.10/dist-packages (from widgetsnbextension~=3.6.0->ipywidgets>=7.6.5->pycaret) (6.5.5)\n",
            "Requirement already satisfied: itsdangerous>=2.0 in /usr/local/lib/python3.10/dist-packages (from Flask<3.1,>=1.0.4->dash>=2.9.0->plotly-resampler>=0.8.3.1->pycaret) (2.2.0)\n",
            "Requirement already satisfied: click>=8.0 in /usr/local/lib/python3.10/dist-packages (from Flask<3.1,>=1.0.4->dash>=2.9.0->plotly-resampler>=0.8.3.1->pycaret) (8.1.7)\n",
            "Requirement already satisfied: pyzmq<25,>=17 in /usr/local/lib/python3.10/dist-packages (from notebook>=4.4.1->widgetsnbextension~=3.6.0->ipywidgets>=7.6.5->pycaret) (24.0.1)\n",
            "Requirement already satisfied: argon2-cffi in /usr/local/lib/python3.10/dist-packages (from notebook>=4.4.1->widgetsnbextension~=3.6.0->ipywidgets>=7.6.5->pycaret) (23.1.0)\n",
            "Requirement already satisfied: nbconvert>=5 in /usr/local/lib/python3.10/dist-packages (from notebook>=4.4.1->widgetsnbextension~=3.6.0->ipywidgets>=7.6.5->pycaret) (6.5.4)\n",
            "Requirement already satisfied: Send2Trash>=1.8.0 in /usr/local/lib/python3.10/dist-packages (from notebook>=4.4.1->widgetsnbextension~=3.6.0->ipywidgets>=7.6.5->pycaret) (1.8.3)\n",
            "Requirement already satisfied: terminado>=0.8.3 in /usr/local/lib/python3.10/dist-packages (from notebook>=4.4.1->widgetsnbextension~=3.6.0->ipywidgets>=7.6.5->pycaret) (0.18.1)\n",
            "Requirement already satisfied: prometheus-client in /usr/local/lib/python3.10/dist-packages (from notebook>=4.4.1->widgetsnbextension~=3.6.0->ipywidgets>=7.6.5->pycaret) (0.20.0)\n",
            "Requirement already satisfied: nbclassic>=0.4.7 in /usr/local/lib/python3.10/dist-packages (from notebook>=4.4.1->widgetsnbextension~=3.6.0->ipywidgets>=7.6.5->pycaret) (1.1.0)\n",
            "Requirement already satisfied: notebook-shim>=0.2.3 in /usr/local/lib/python3.10/dist-packages (from nbclassic>=0.4.7->notebook>=4.4.1->widgetsnbextension~=3.6.0->ipywidgets>=7.6.5->pycaret) (0.2.4)\n",
            "Requirement already satisfied: lxml in /usr/local/lib/python3.10/dist-packages (from nbconvert>=5->notebook>=4.4.1->widgetsnbextension~=3.6.0->ipywidgets>=7.6.5->pycaret) (4.9.4)\n",
            "Requirement already satisfied: beautifulsoup4 in /usr/local/lib/python3.10/dist-packages (from nbconvert>=5->notebook>=4.4.1->widgetsnbextension~=3.6.0->ipywidgets>=7.6.5->pycaret) (4.12.3)\n",
            "Requirement already satisfied: bleach in /usr/local/lib/python3.10/dist-packages (from nbconvert>=5->notebook>=4.4.1->widgetsnbextension~=3.6.0->ipywidgets>=7.6.5->pycaret) (6.1.0)\n",
            "Requirement already satisfied: defusedxml in /usr/local/lib/python3.10/dist-packages (from nbconvert>=5->notebook>=4.4.1->widgetsnbextension~=3.6.0->ipywidgets>=7.6.5->pycaret) (0.7.1)\n",
            "Requirement already satisfied: entrypoints>=0.2.2 in /usr/local/lib/python3.10/dist-packages (from nbconvert>=5->notebook>=4.4.1->widgetsnbextension~=3.6.0->ipywidgets>=7.6.5->pycaret) (0.4)\n",
            "Requirement already satisfied: jupyterlab-pygments in /usr/local/lib/python3.10/dist-packages (from nbconvert>=5->notebook>=4.4.1->widgetsnbextension~=3.6.0->ipywidgets>=7.6.5->pycaret) (0.3.0)\n",
            "Requirement already satisfied: mistune<2,>=0.8.1 in /usr/local/lib/python3.10/dist-packages (from nbconvert>=5->notebook>=4.4.1->widgetsnbextension~=3.6.0->ipywidgets>=7.6.5->pycaret) (0.8.4)\n",
            "Requirement already satisfied: nbclient>=0.5.0 in /usr/local/lib/python3.10/dist-packages (from nbconvert>=5->notebook>=4.4.1->widgetsnbextension~=3.6.0->ipywidgets>=7.6.5->pycaret) (0.10.0)\n",
            "Requirement already satisfied: pandocfilters>=1.4.1 in /usr/local/lib/python3.10/dist-packages (from nbconvert>=5->notebook>=4.4.1->widgetsnbextension~=3.6.0->ipywidgets>=7.6.5->pycaret) (1.5.1)\n",
            "Requirement already satisfied: tinycss2 in /usr/local/lib/python3.10/dist-packages (from nbconvert>=5->notebook>=4.4.1->widgetsnbextension~=3.6.0->ipywidgets>=7.6.5->pycaret) (1.3.0)\n",
            "Requirement already satisfied: argon2-cffi-bindings in /usr/local/lib/python3.10/dist-packages (from argon2-cffi->notebook>=4.4.1->widgetsnbextension~=3.6.0->ipywidgets>=7.6.5->pycaret) (21.2.0)\n",
            "Requirement already satisfied: jupyter-server<3,>=1.8 in /usr/local/lib/python3.10/dist-packages (from notebook-shim>=0.2.3->nbclassic>=0.4.7->notebook>=4.4.1->widgetsnbextension~=3.6.0->ipywidgets>=7.6.5->pycaret) (1.24.0)\n",
            "Requirement already satisfied: cffi>=1.0.1 in /usr/local/lib/python3.10/dist-packages (from argon2-cffi-bindings->argon2-cffi->notebook>=4.4.1->widgetsnbextension~=3.6.0->ipywidgets>=7.6.5->pycaret) (1.16.0)\n",
            "Requirement already satisfied: soupsieve>1.2 in /usr/local/lib/python3.10/dist-packages (from beautifulsoup4->nbconvert>=5->notebook>=4.4.1->widgetsnbextension~=3.6.0->ipywidgets>=7.6.5->pycaret) (2.5)\n",
            "Requirement already satisfied: webencodings in /usr/local/lib/python3.10/dist-packages (from bleach->nbconvert>=5->notebook>=4.4.1->widgetsnbextension~=3.6.0->ipywidgets>=7.6.5->pycaret) (0.5.1)\n",
            "Requirement already satisfied: pycparser in /usr/local/lib/python3.10/dist-packages (from cffi>=1.0.1->argon2-cffi-bindings->argon2-cffi->notebook>=4.4.1->widgetsnbextension~=3.6.0->ipywidgets>=7.6.5->pycaret) (2.22)\n",
            "Requirement already satisfied: anyio<4,>=3.1.0 in /usr/local/lib/python3.10/dist-packages (from jupyter-server<3,>=1.8->notebook-shim>=0.2.3->nbclassic>=0.4.7->notebook>=4.4.1->widgetsnbextension~=3.6.0->ipywidgets>=7.6.5->pycaret) (3.7.1)\n",
            "Requirement already satisfied: websocket-client in /usr/local/lib/python3.10/dist-packages (from jupyter-server<3,>=1.8->notebook-shim>=0.2.3->nbclassic>=0.4.7->notebook>=4.4.1->widgetsnbextension~=3.6.0->ipywidgets>=7.6.5->pycaret) (1.8.0)\n",
            "Requirement already satisfied: sniffio>=1.1 in /usr/local/lib/python3.10/dist-packages (from anyio<4,>=3.1.0->jupyter-server<3,>=1.8->notebook-shim>=0.2.3->nbclassic>=0.4.7->notebook>=4.4.1->widgetsnbextension~=3.6.0->ipywidgets>=7.6.5->pycaret) (1.3.1)\n",
            "Requirement already satisfied: exceptiongroup in /usr/local/lib/python3.10/dist-packages (from anyio<4,>=3.1.0->jupyter-server<3,>=1.8->notebook-shim>=0.2.3->nbclassic>=0.4.7->notebook>=4.4.1->widgetsnbextension~=3.6.0->ipywidgets>=7.6.5->pycaret) (1.2.1)\n"
          ]
        }
      ]
    },
    {
      "cell_type": "code",
      "metadata": {
        "id": "7LfnpwSS9nue"
      },
      "source": [
        "#εισαγωγή βιβλιοθηκών - πακέτων\n",
        "import pycaret\n",
        "import pandas as pd\n",
        "import numpy as np\n",
        "import matplotlib.pyplot as plt\n",
        "from pycaret.classification import *"
      ],
      "execution_count": 12,
      "outputs": []
    },
    {
      "cell_type": "code",
      "metadata": {
        "colab": {
          "base_uri": "https://localhost:8080/"
        },
        "id": "ZunbzPVa9a6g",
        "outputId": "f8d7735e-9878-487f-f2c9-dcd5b8e83461"
      },
      "source": [
        "#εισαγωγή του συνόλου δεδομένων\n",
        "url = 'https://raw.githubusercontent.com/kdemertzis/EKPA/main/Data/dga_2class.csv'\n",
        "df = pd.read_csv(url)\n",
        "#έλεγχος σχήματος συνόλου δεδομένων\n",
        "print(df.shape)"
      ],
      "execution_count": 13,
      "outputs": [
        {
          "output_type": "stream",
          "name": "stdout",
          "text": [
            "(25270, 6)\n"
          ]
        }
      ]
    },
    {
      "cell_type": "code",
      "source": [
        "#ανακάτεμα των δεδομένων\n",
        "df = df.sample(frac = 1)\n",
        "print(df.head())"
      ],
      "metadata": {
        "id": "DCynJDtpYx8z",
        "outputId": "549b03b4-5388-4eb0-d32e-7885d1f1e68f",
        "colab": {
          "base_uri": "https://localhost:8080/"
        }
      },
      "execution_count": 14,
      "outputs": [
        {
          "output_type": "stream",
          "name": "stdout",
          "text": [
            "       length   entropy   alexa_grams   word_grams       diff  class\n",
            "5808        4  2.000000      1.431364     3.029789  -1.598426  legit\n",
            "4707       14  3.182006     32.732826    52.058700 -19.325874  legit\n",
            "18         18  3.266333     88.308876    92.615543  -4.306667  legit\n",
            "17334       8  2.155639     20.290688    24.769618  -4.478930    dga\n",
            "20559       9  2.725481     20.309613    22.082951  -1.773339    dga\n"
          ]
        }
      ]
    },
    {
      "cell_type": "code",
      "metadata": {
        "id": "J6y3Zhq2-EZ8"
      },
      "source": [
        "#εγκατάσταση του συνόλου δεδομένων\n",
        "grid = setup(data=df, target=df.columns[-1], html=False, verbose=False)"
      ],
      "execution_count": 15,
      "outputs": []
    },
    {
      "cell_type": "code",
      "metadata": {
        "colab": {
          "base_uri": "https://localhost:8080/"
        },
        "id": "ZGJ7kigzA1Rf",
        "outputId": "775034b7-e140-4a0a-9268-46b7040d6ffd"
      },
      "source": [
        "#σύγκριση των διαθέσιμων μοντέλων ΜΜ\n",
        "best = compare_models(cross_validation=False, n_select = 1)\n",
        "%load_ext tensorboard"
      ],
      "execution_count": 16,
      "outputs": [
        {
          "output_type": "stream",
          "name": "stderr",
          "text": [
            "                                                           "
          ]
        },
        {
          "output_type": "stream",
          "name": "stdout",
          "text": [
            "                                    Model  Accuracy     AUC  Recall   Prec.  \\\n",
            "gbc          Gradient Boosting Classifier    0.7569  0.8286  0.7569  0.7607   \n",
            "lightgbm  Light Gradient Boosting Machine    0.7553  0.8307  0.7553  0.7583   \n",
            "xgboost         Extreme Gradient Boosting    0.7541  0.8232  0.7541  0.7561   \n",
            "ada                  Ada Boost Classifier    0.7487  0.8177  0.7487  0.7491   \n",
            "lr                    Logistic Regression    0.7459  0.8111  0.7459  0.7472   \n",
            "ridge                    Ridge Classifier    0.7452  0.0000  0.7452  0.7485   \n",
            "lda          Linear Discriminant Analysis    0.7450  0.8091  0.7450  0.7484   \n",
            "rf               Random Forest Classifier    0.7429  0.8081  0.7429  0.7432   \n",
            "knn                K Neighbors Classifier    0.7316  0.7852  0.7316  0.7318   \n",
            "et                 Extra Trees Classifier    0.7263  0.8001  0.7263  0.7260   \n",
            "qda       Quadratic Discriminant Analysis    0.7072  0.7970  0.7072  0.7549   \n",
            "dt               Decision Tree Classifier    0.6718  0.6707  0.6718  0.6719   \n",
            "svm                   SVM - Linear Kernel    0.6714  0.0000  0.6714  0.7019   \n",
            "nb                            Naive Bayes    0.5983  0.6646  0.5983  0.6036   \n",
            "dummy                    Dummy Classifier    0.5301  0.5000  0.5301  0.2810   \n",
            "\n",
            "              F1   Kappa     MCC  TT (Sec)  \n",
            "gbc       0.7544  0.5075  0.5135      4.37  \n",
            "lightgbm  0.7531  0.5047  0.5097      0.19  \n",
            "xgboost   0.7523  0.5028  0.5066      0.23  \n",
            "ada       0.7477  0.4931  0.4948      0.94  \n",
            "lr        0.7444  0.4867  0.4896      0.09  \n",
            "ridge     0.7425  0.4838  0.4894      0.03  \n",
            "lda       0.7424  0.4835  0.4892      0.03  \n",
            "rf        0.7419  0.4815  0.4830      3.41  \n",
            "knn       0.7305  0.4585  0.4601      0.05  \n",
            "et        0.7258  0.4490  0.4495      1.66  \n",
            "qda       0.6862  0.3955  0.4482      0.03  \n",
            "dt        0.6718  0.3413  0.3413      0.18  \n",
            "svm       0.6647  0.3541  0.3771      0.37  \n",
            "nb        0.5794  0.1755  0.1893      0.04  \n",
            "dummy     0.3674  0.0000  0.0000      0.02  \n",
            "The tensorboard extension is already loaded. To reload it, use:\n",
            "  %reload_ext tensorboard\n"
          ]
        },
        {
          "output_type": "stream",
          "name": "stderr",
          "text": [
            "\r"
          ]
        }
      ]
    },
    {
      "cell_type": "code",
      "metadata": {
        "colab": {
          "base_uri": "https://localhost:8080/"
        },
        "id": "TorFLtNx-kCm",
        "outputId": "edebde2b-f928-4af2-be7c-e0b1790cf3b5"
      },
      "source": [
        "#αναφορά των υπερπαραμέτρων του μοντέλου με την υψηλότερη απόδοση\n",
        "print(best)"
      ],
      "execution_count": 17,
      "outputs": [
        {
          "output_type": "stream",
          "name": "stdout",
          "text": [
            "GradientBoostingClassifier(ccp_alpha=0.0, criterion='friedman_mse', init=None,\n",
            "                           learning_rate=0.1, loss='log_loss', max_depth=3,\n",
            "                           max_features=None, max_leaf_nodes=None,\n",
            "                           min_impurity_decrease=0.0, min_samples_leaf=1,\n",
            "                           min_samples_split=2, min_weight_fraction_leaf=0.0,\n",
            "                           n_estimators=100, n_iter_no_change=None,\n",
            "                           random_state=8041, subsample=1.0, tol=0.0001,\n",
            "                           validation_fraction=0.1, verbose=0,\n",
            "                           warm_start=False)\n"
          ]
        }
      ]
    },
    {
      "cell_type": "code",
      "metadata": {
        "id": "XJTnGY38yxrE",
        "outputId": "58757ca9-c20d-4e68-ff7b-54e2ebfa31b2",
        "colab": {
          "base_uri": "https://localhost:8080/",
          "height": 663,
          "referenced_widgets": [
            "7c8df7411d4f444f87baf31a9850b0b1",
            "0fa6486ff5914bdea9281e72255c50bf",
            "da734cb6d4a14c83a051ba08890ff16e",
            "4a0de3aeb21a41e6976bd819f5337196",
            "b4a138f86366498a8afe765f072f22d0",
            "5186064d9b714bdcb02c55f76b55577b",
            "394b244854194fae952e0963add117ea"
          ]
        }
      },
      "source": [
        "#μέτρα αξιολόγησης του μοντέλου με την υψηλότερη απόδοση\n",
        "evaluate_model(best)"
      ],
      "execution_count": 18,
      "outputs": [
        {
          "output_type": "display_data",
          "data": {
            "text/plain": [
              "interactive(children=(ToggleButtons(description='Plot Type:', icons=('',), options=(('Pipeline Plot', 'pipelin…"
            ],
            "application/vnd.jupyter.widget-view+json": {
              "version_major": 2,
              "version_minor": 0,
              "model_id": "7c8df7411d4f444f87baf31a9850b0b1"
            }
          },
          "metadata": {
            "application/vnd.jupyter.widget-view+json": {
              "colab": {
                "custom_widget_manager": {
                  "url": "https://ssl.gstatic.com/colaboratory-static/widgets/colab-cdn-widget-manager/2b70e893a8ba7c0f/manager.min.js"
                }
              }
            }
          }
        }
      ]
    }
  ]
}